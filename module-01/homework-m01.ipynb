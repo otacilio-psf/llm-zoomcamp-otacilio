{
 "cells": [
  {
   "cell_type": "markdown",
   "id": "a3235fc2-483c-44ce-a4d6-8b215320ec3a",
   "metadata": {},
   "source": [
    "### Q1"
   ]
  },
  {
   "cell_type": "markdown",
   "id": "de48fd68",
   "metadata": {},
   "source": [
    "##### To run elastic search\n",
    "\n",
    "```\n",
    "docker run -d \\\n",
    "    --name elasticsearch \\\n",
    "    -p 9200:9200 \\\n",
    "    -p 9300:9300 \\\n",
    "    -e \"discovery.type=single-node\" \\\n",
    "    -e \"xpack.security.enabled=false\" \\\n",
    "    -v ./elastic_data:/usr/share/elasticsearch/data \\\n",
    "    docker.elastic.co/elasticsearch/elasticsearch:8.4.3\n",
    "```"
   ]
  },
  {
   "cell_type": "code",
   "execution_count": 1,
   "id": "59ceb248-ade1-4c95-a001-d603a0e839ec",
   "metadata": {},
   "outputs": [],
   "source": [
    "import requests"
   ]
  },
  {
   "cell_type": "code",
   "execution_count": 2,
   "id": "0d565cb5-205d-47f8-9bc3-85aec6d6f770",
   "metadata": {},
   "outputs": [],
   "source": [
    "res = requests.get(\"http://localhost:9200\")"
   ]
  },
  {
   "cell_type": "code",
   "execution_count": 3,
   "id": "2c4448c2-1a03-466c-90f5-3d67ee548597",
   "metadata": {},
   "outputs": [
    {
     "data": {
      "text/plain": [
       "'42f05b9372a9a4a470db3b52817899b99a76ee73'"
      ]
     },
     "execution_count": 3,
     "metadata": {},
     "output_type": "execute_result"
    }
   ],
   "source": [
    "res.json()[\"version\"][\"build_hash\"]"
   ]
  },
  {
   "cell_type": "code",
   "execution_count": 4,
   "id": "d05287e4-cb0f-4fb4-8bad-e13050cfd354",
   "metadata": {},
   "outputs": [],
   "source": [
    "import requests \n",
    "\n",
    "docs_url = 'https://github.com/DataTalksClub/llm-zoomcamp/blob/main/01-intro/documents.json?raw=1'\n",
    "docs_response = requests.get(docs_url)\n",
    "documents_raw = docs_response.json()\n",
    "\n",
    "documents = []\n",
    "\n",
    "for course in documents_raw:\n",
    "    course_name = course['course']\n",
    "\n",
    "    for doc in course['documents']:\n",
    "        doc['course'] = course_name\n",
    "        documents.append(doc)"
   ]
  },
  {
   "cell_type": "markdown",
   "id": "be970f1b-d046-4c70-bd50-9c9ad5eb2b73",
   "metadata": {},
   "source": [
    "### Q2"
   ]
  },
  {
   "cell_type": "code",
   "execution_count": 5,
   "id": "10b21adc-9a41-4a10-99ac-62ea8df28308",
   "metadata": {},
   "outputs": [
    {
     "name": "stderr",
     "output_type": "stream",
     "text": [
      "/mnt/c/Users/otaci/Desktop/repos/llm-zoomcamp-otacilio/.venv/lib/python3.10/site-packages/tqdm/auto.py:21: TqdmWarning: IProgress not found. Please update jupyter and ipywidgets. See https://ipywidgets.readthedocs.io/en/stable/user_install.html\n",
      "  from .autonotebook import tqdm as notebook_tqdm\n"
     ]
    }
   ],
   "source": [
    "from elasticsearch import Elasticsearch\n",
    "from tqdm.auto import tqdm"
   ]
  },
  {
   "cell_type": "code",
   "execution_count": 6,
   "id": "54a21648-80aa-4726-8e3b-af385e3ca2cf",
   "metadata": {},
   "outputs": [],
   "source": [
    "es_client = Elasticsearch('http://localhost:9200') "
   ]
  },
  {
   "cell_type": "code",
   "execution_count": 7,
   "id": "98fc43f8-6f81-4c18-a4fe-a8021fd9f45f",
   "metadata": {},
   "outputs": [
    {
     "data": {
      "text/plain": [
       "ObjectApiResponse({'acknowledged': True, 'shards_acknowledged': True, 'index': 'course-questions'})"
      ]
     },
     "execution_count": 7,
     "metadata": {},
     "output_type": "execute_result"
    }
   ],
   "source": [
    "index_settings = {\n",
    "    \"settings\": {\n",
    "        \"number_of_shards\": 1,\n",
    "        \"number_of_replicas\": 0\n",
    "    },\n",
    "    \"mappings\": {\n",
    "        \"properties\": {\n",
    "            \"text\": {\"type\": \"text\"},\n",
    "            \"section\": {\"type\": \"text\"},\n",
    "            \"question\": {\"type\": \"text\"},\n",
    "            \"course\": {\"type\": \"keyword\"} \n",
    "        }\n",
    "    }\n",
    "}\n",
    "\n",
    "index_name = \"course-questions\"\n",
    "\n",
    "es_client.indices.create(index=index_name, body=index_settings)"
   ]
  },
  {
   "cell_type": "code",
   "execution_count": 8,
   "id": "0b30ecff-9505-40a8-a3b7-92c76f86ce53",
   "metadata": {},
   "outputs": [
    {
     "name": "stderr",
     "output_type": "stream",
     "text": [
      "100%|███████████████████████████████████████████████████████████████████████████████████████████████████████████████████████████████████████████████████████████████████████| 948/948 [00:06<00:00, 150.91it/s]\n"
     ]
    }
   ],
   "source": [
    "for doc in tqdm(documents):\n",
    "    es_client.index(index=index_name, document=doc)"
   ]
  },
  {
   "cell_type": "markdown",
   "id": "07db5ad5-f9ad-43e1-807f-43dab333c36d",
   "metadata": {},
   "source": [
    "### Q3"
   ]
  },
  {
   "cell_type": "code",
   "execution_count": 59,
   "id": "019a4f3f-82c2-4a79-89c1-c0e4f63178aa",
   "metadata": {},
   "outputs": [],
   "source": [
    "def elastic_search(query, size=5, query_filter=False):\n",
    "    search_query = {\n",
    "        \"size\": size,\n",
    "        \"query\": {\n",
    "            \"bool\": {\n",
    "                \"must\": {\n",
    "                    \"multi_match\": {\n",
    "                        \"query\": query,\n",
    "                        \"fields\": [\"question^4\", \"text\"],\n",
    "                        \"type\": \"best_fields\"\n",
    "                    }\n",
    "                }\n",
    "            }\n",
    "        }\n",
    "    }\n",
    "\n",
    "    if query_filter:\n",
    "        search_query['query']['bool'].update(query_filter)\n",
    "\n",
    "    response = es_client.search(index=index_name, body=search_query)\n",
    "    \n",
    "    result_docs = []\n",
    "    \n",
    "    for hit in response['hits']['hits']:\n",
    "        hit['_source']['_score'] = hit['_score']\n",
    "        result_docs.append(hit['_source'])\n",
    "    \n",
    "    return result_docs"
   ]
  },
  {
   "cell_type": "code",
   "execution_count": 60,
   "id": "b0579057-b63e-44e9-a507-c6f337b3ec19",
   "metadata": {},
   "outputs": [],
   "source": [
    "query = \"How do I execute a command in a running docker container?\""
   ]
  },
  {
   "cell_type": "code",
   "execution_count": 61,
   "id": "cae8f894-b85a-41cb-b2dd-3d027144209b",
   "metadata": {},
   "outputs": [],
   "source": [
    "es_res = elastic_search(query)"
   ]
  },
  {
   "cell_type": "code",
   "execution_count": 67,
   "id": "2adb167f-de15-4812-a5a1-ad0c74d1b4dc",
   "metadata": {},
   "outputs": [
    {
     "data": {
      "text/plain": [
       "84.050095"
      ]
     },
     "execution_count": 67,
     "metadata": {},
     "output_type": "execute_result"
    }
   ],
   "source": [
    "es_res[0][\"_score\"]"
   ]
  },
  {
   "cell_type": "markdown",
   "id": "41452f51-3768-4a49-bc0b-de35c040ab84",
   "metadata": {},
   "source": [
    "### Q4"
   ]
  },
  {
   "cell_type": "code",
   "execution_count": 63,
   "id": "7bacc51e-1ee9-4526-ba0d-822243b4d544",
   "metadata": {},
   "outputs": [],
   "source": [
    "query_filter = {\n",
    "    \"filter\": {\n",
    "        \"term\": {\n",
    "             \"course\": \"machine-learning-zoomcamp\"\n",
    "            }\n",
    "        }\n",
    "    }"
   ]
  },
  {
   "cell_type": "code",
   "execution_count": 68,
   "id": "9a5de47d-74b0-471b-87c6-ab2c3e5a2ad2",
   "metadata": {},
   "outputs": [
    {
     "data": {
      "text/plain": [
       "'How do I copy files from a different folder into docker container’s working directory?'"
      ]
     },
     "execution_count": 68,
     "metadata": {},
     "output_type": "execute_result"
    }
   ],
   "source": [
    "q4_results = elastic_search(query, size=3, query_filter=query_filter)\n",
    "q4_results[2]['question']"
   ]
  },
  {
   "cell_type": "markdown",
   "id": "9ef0683e-0dae-4e8e-99d2-1fc82c8a8065",
   "metadata": {},
   "source": [
    "### Q5"
   ]
  },
  {
   "cell_type": "code",
   "execution_count": 71,
   "id": "1e2fc0bb-cabe-4e38-87d2-513f75cb9c65",
   "metadata": {},
   "outputs": [],
   "source": [
    "context = \"\"\n",
    "context_template = \"\"\"\n",
    "Q: {question}\n",
    "A: {text}\n",
    "\"\"\".strip()\n",
    "\n",
    "for r in q4_results:\n",
    "    context += context_template.format(question=r[\"question\"], text=r[\"text\"]) + \"\\n\\n\""
   ]
  },
  {
   "cell_type": "code",
   "execution_count": 73,
   "id": "a6931f19-5089-42e9-bfce-eda946a20f0b",
   "metadata": {},
   "outputs": [
    {
     "name": "stdout",
     "output_type": "stream",
     "text": [
      "1464\n"
     ]
    }
   ],
   "source": [
    "prompt_template = \"\"\"\n",
    "You're a course teaching assistant. Answer the QUESTION based on the CONTEXT from the FAQ database.\n",
    "Use only the facts from the CONTEXT when answering the QUESTION.\n",
    "\n",
    "QUESTION: {question}\n",
    "\n",
    "CONTEXT:\n",
    "{context}\n",
    "\"\"\".strip()\n",
    "\n",
    "query = \"How do I execute a command in a running docker container?\"\n",
    "prompt = prompt_template.format(question=query, context=context)\n",
    "\n",
    "print(len(prompt))"
   ]
  },
  {
   "cell_type": "markdown",
   "id": "9f0cc62f-5ef5-4c18-bec0-5fdfead07327",
   "metadata": {},
   "source": [
    "### Q6"
   ]
  },
  {
   "cell_type": "code",
   "execution_count": 76,
   "id": "c97cd96f-1391-4bd7-a131-ca1295ed7e2c",
   "metadata": {},
   "outputs": [],
   "source": [
    "import tiktoken\n",
    "\n",
    "encoding = tiktoken.encoding_for_model(\"gpt-4o\")"
   ]
  },
  {
   "cell_type": "code",
   "execution_count": 77,
   "id": "d42ff0cb-3ea9-43f8-a696-a1a51ad5b6a7",
   "metadata": {},
   "outputs": [],
   "source": [
    "prompt_encoded = encoding.encode(prompt)"
   ]
  },
  {
   "cell_type": "code",
   "execution_count": 79,
   "id": "930f65db-9f1d-4be8-a833-efece7ac936f",
   "metadata": {},
   "outputs": [
    {
     "name": "stdout",
     "output_type": "stream",
     "text": [
      "323\n"
     ]
    }
   ],
   "source": [
    "print(len(prompt_encoded))"
   ]
  }
 ],
 "metadata": {
  "kernelspec": {
   "display_name": "Python 3 (ipykernel)",
   "language": "python",
   "name": "python3"
  },
  "language_info": {
   "codemirror_mode": {
    "name": "ipython",
    "version": 3
   },
   "file_extension": ".py",
   "mimetype": "text/x-python",
   "name": "python",
   "nbconvert_exporter": "python",
   "pygments_lexer": "ipython3",
   "version": "3.10.12"
  }
 },
 "nbformat": 4,
 "nbformat_minor": 5
}
