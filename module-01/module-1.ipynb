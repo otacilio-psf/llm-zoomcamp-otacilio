{
 "cells": [
  {
   "cell_type": "code",
   "execution_count": 37,
   "id": "8fee1791-31b0-49b0-9733-51ac666a007e",
   "metadata": {},
   "outputs": [],
   "source": [
    "from elasticsearch import Elasticsearch\n",
    "import google.generativeai as genai\n",
    "import requests\n",
    "import time\n",
    "import json\n",
    "import os"
   ]
  },
  {
   "cell_type": "code",
   "execution_count": 2,
   "id": "b95ce269-4bc5-46fd-a148-5685d1c1d31c",
   "metadata": {},
   "outputs": [],
   "source": [
    "import minsearch"
   ]
  },
  {
   "cell_type": "code",
   "execution_count": 3,
   "id": "aef4c438-1d5a-4a25-8873-bff9f49ff56b",
   "metadata": {},
   "outputs": [],
   "source": [
    "with open('documents.json', 'rt') as f_in:\n",
    "    docs_raw = json.load(f_in)"
   ]
  },
  {
   "cell_type": "code",
   "execution_count": 4,
   "id": "0e8e78c2-1411-4f6a-9dc6-195151780fc8",
   "metadata": {},
   "outputs": [],
   "source": [
    "documents = []\n",
    "\n",
    "for course_dict in docs_raw:\n",
    "    for doc in course_dict['documents']:\n",
    "        doc['course'] = course_dict['course']\n",
    "        documents.append(doc)"
   ]
  },
  {
   "cell_type": "code",
   "execution_count": 5,
   "id": "da66231b-1564-4ae8-92d5-e38bf545f374",
   "metadata": {},
   "outputs": [],
   "source": [
    "index = minsearch.Index(\n",
    "    text_fields=[\"question\", \"text\", \"section\"],\n",
    "    keyword_fields=[\"course\"]\n",
    ")"
   ]
  },
  {
   "cell_type": "code",
   "execution_count": 6,
   "id": "4395d524-4285-437f-98bb-28794a9561a4",
   "metadata": {},
   "outputs": [
    {
     "data": {
      "text/plain": [
       "<minsearch.Index at 0x7fc245c2d1b0>"
      ]
     },
     "execution_count": 6,
     "metadata": {},
     "output_type": "execute_result"
    }
   ],
   "source": [
    "index.fit(documents)"
   ]
  },
  {
   "cell_type": "code",
   "execution_count": 8,
   "id": "c5a3658b-2b10-43a1-80d9-4deb43633857",
   "metadata": {},
   "outputs": [],
   "source": [
    "def search(query):\n",
    "    boost = {'question': 3.0, 'section': 0.5}\n",
    "\n",
    "    results = index.search(\n",
    "        query=query,\n",
    "        filter_dict={'course': 'data-engineering-zoomcamp'},\n",
    "        boost_dict=boost,\n",
    "        num_results=5\n",
    "    )\n",
    "\n",
    "    return results"
   ]
  },
  {
   "cell_type": "code",
   "execution_count": 41,
   "id": "492fec73-02b5-4ac3-81ab-b618ce9210bc",
   "metadata": {},
   "outputs": [],
   "source": [
    "es_client = Elasticsearch('http://localhost:9200') \n",
    "\n",
    "index_settings = {\n",
    "    \"settings\": {\n",
    "        \"number_of_shards\": 1,\n",
    "        \"number_of_replicas\": 0\n",
    "    },\n",
    "    \"mappings\": {\n",
    "        \"properties\": {\n",
    "            \"text\": {\"type\": \"text\"},\n",
    "            \"section\": {\"type\": \"text\"},\n",
    "            \"question\": {\"type\": \"text\"},\n",
    "            \"course\": {\"type\": \"keyword\"} \n",
    "        }\n",
    "    }\n",
    "}\n",
    "\n",
    "index_name = \"course-questions\"\n",
    "\n",
    "es_client.indices.create(index=index_name, body=index_settings)\n",
    "\n",
    "for doc in documents:\n",
    "    es_client.index(index=index_name, document=doc)"
   ]
  },
  {
   "cell_type": "code",
   "execution_count": 52,
   "id": "6981333b-0bf7-44a4-9c29-e6925367c5a5",
   "metadata": {},
   "outputs": [],
   "source": [
    "def elastic_search(query):\n",
    "    search_query = {\n",
    "        \"size\": 5,\n",
    "        \"query\": {\n",
    "            \"bool\": {\n",
    "                \"must\": {\n",
    "                    \"multi_match\": {\n",
    "                        \"query\": query,\n",
    "                        \"fields\": [\"question^4\", \"text\"],\n",
    "                        \"type\": \"best_fields\"\n",
    "                    }\n",
    "                }\n",
    "            }\n",
    "        }\n",
    "    }\n",
    "\n",
    "    response = es_client.search(index=index_name, body=search_query)\n",
    "    \n",
    "    result_docs = []\n",
    "    \n",
    "    for hit in response['hits']['hits']:\n",
    "        result_docs.append(hit['_source'])\n",
    "    \n",
    "    return result_docs"
   ]
  },
  {
   "cell_type": "code",
   "execution_count": 76,
   "id": "0353a9ee-23f6-43af-9e35-bf86a43a2d3d",
   "metadata": {},
   "outputs": [],
   "source": [
    "def build_prompt(query, search_results):\n",
    "    prompt_template = \"\"\"\n",
    "You're a course teaching assistant. Answer the QUESTION based on the CONTEXT from the FAQ database.\n",
    "Use only the facts from the CONTEXT when answering the QUESTION.\n",
    "\n",
    "QUESTION: {question}\n",
    "\n",
    "CONTEXT: \n",
    "{context}\n",
    "\"\"\".strip()\n",
    "\n",
    "    context = \"\"\n",
    "    \n",
    "    for doc in search_results:\n",
    "        context = context + f\"question: {doc['question']}\\nanswer: {doc['text']}\\n\\n\"\n",
    "    \n",
    "    prompt = prompt_template.format(question=query, context=context).strip()\n",
    "    return prompt"
   ]
  },
  {
   "cell_type": "code",
   "execution_count": 23,
   "id": "69ffa572-1c98-4b78-8bd7-e67d30073dfc",
   "metadata": {},
   "outputs": [],
   "source": [
    "def llm_gemini(prompt, model='gemini-1.5-flash'):\n",
    "    genai.configure(api_key=os.environ['API_KEY'])\n",
    "    \n",
    "    model = genai.GenerativeModel(model_name=model)\n",
    "    response = model.generate_content(prompt)\n",
    "    \n",
    "    return response.text"
   ]
  },
  {
   "cell_type": "code",
   "execution_count": 72,
   "id": "894b9b22-a3cf-4ab4-a0b6-a044fd9d68c8",
   "metadata": {},
   "outputs": [],
   "source": [
    "def llm_hf(prompt, model=\"meta-llama/Meta-Llama-3-8B-Instruct\"):\n",
    "    \n",
    "    API_URL = f\"https://api-inference.huggingface.co/models/{model}\"\n",
    "    headers = {\"Authorization\": f\"Bearer {os.environ['HF_TOKEN']}\"}\n",
    "\n",
    "    payload = {\n",
    "        \"inputs\": prompt,\n",
    "    }\n",
    "\n",
    "    while True:\n",
    "        response = requests.post(API_URL, headers=headers, json=payload).json()\n",
    "        try:\n",
    "            if \"is currently loading\" in response[\"error\"]:\n",
    "                print(response[\"error\"])\n",
    "                time.sleep(5)\n",
    "            else:\n",
    "                break\n",
    "        except:\n",
    "            break\n",
    "    \n",
    "    return response[0][\"generated_text\"]"
   ]
  },
  {
   "cell_type": "code",
   "execution_count": 63,
   "id": "7d728c60-e849-4f38-a846-2b77f7e41ed3",
   "metadata": {},
   "outputs": [],
   "source": [
    "def ll_hf_qa(query, search_results, model):\n",
    "\n",
    "    API_URL = f\"https://api-inference.huggingface.co/models/{model}\"\n",
    "    headers = {\"Authorization\": f\"Bearer {os.environ['HF_TOKEN']}\"}\n",
    "\n",
    "    context = \"\"\n",
    "    context_template = \"\"\"\n",
    "    QUESTION: {question}\n",
    "    ANSWER: {text}\n",
    "    \"\"\".strip()\n",
    "\n",
    "    for r in search_results:\n",
    "        context += context_template.format(question=r[\"question\"], text=r[\"text\"]) + \"\\n\\n\"\n",
    "\n",
    "    payload = {\n",
    "    \t\"inputs\": {\n",
    "    \t\t\"question\": query,\n",
    "    \t\t\"context\": context\n",
    "    \t},\n",
    "    }\n",
    "    \n",
    "    while True:\n",
    "        response = requests.post(API_URL, headers=headers, json=payload).json()\n",
    "        try:\n",
    "            if \"is currently loading\" in response[\"error\"]:\n",
    "                print(response[\"error\"])\n",
    "                time.sleep(5)\n",
    "            else:\n",
    "                break\n",
    "        except:\n",
    "            break\n",
    "    \t\n",
    "    return response"
   ]
  },
  {
   "cell_type": "code",
   "execution_count": 55,
   "id": "0fad5e18-0fad-4a0e-928c-4f3bed8fe9e3",
   "metadata": {},
   "outputs": [],
   "source": [
    "def rag(query, llm, model):\n",
    "    search_results = elastic_search(query)\n",
    "    prompt = build_prompt(query, search_results)\n",
    "    if llm == \"gemini\":\n",
    "        answer = llm_gemini(prompt, model)\n",
    "    elif llm == \"hf\":\n",
    "        answer = llm_hf(prompt, model)\n",
    "    elif llm == \"hf_qa\":\n",
    "        answer = ll_hf_qa(query, search_results, model)\n",
    "    else:\n",
    "        raise Exception(\"llm not configured\")\n",
    "    \n",
    "    return answer"
   ]
  },
  {
   "cell_type": "code",
   "execution_count": 44,
   "id": "c24f6b27-b30c-4060-ad92-c18324b85c75",
   "metadata": {},
   "outputs": [],
   "source": [
    "q = 'the course has already started, can I still enroll?'"
   ]
  },
  {
   "cell_type": "code",
   "execution_count": 45,
   "id": "c459e909-94ee-40f9-beb4-77ecfc0ed48f",
   "metadata": {},
   "outputs": [
    {
     "data": {
      "text/plain": [
       "'Yes, you can still join the course. You won’t be able to submit some of the homeworks, but you can still take part in the course. \\nTo get a certificate, you need to submit 2 out of 3 course projects and review 3 peers’ Projects by the deadline. \\nThis means that if you join at the end of November and manage to work on two projects, you will still be eligible for a certificate. \\n'"
      ]
     },
     "execution_count": 45,
     "metadata": {},
     "output_type": "execute_result"
    }
   ],
   "source": [
    "rag(q, llm=\"gemini\", model=\"gemini-1.5-flash\")"
   ]
  },
  {
   "cell_type": "code",
   "execution_count": 46,
   "id": "527fbba0-92fc-4f20-b02d-1e6e2d2cdbc1",
   "metadata": {},
   "outputs": [
    {
     "data": {
      "text/plain": [
       "'Yes, you can still join the course after the start date. You may not be able to submit all the homework since some deadlines might have passed, but you can still participate in the course. \\n'"
      ]
     },
     "execution_count": 46,
     "metadata": {},
     "output_type": "execute_result"
    }
   ],
   "source": [
    "rag(q, llm=\"gemini\", model=\"gemini-1.5-pro\")"
   ]
  },
  {
   "cell_type": "code",
   "execution_count": 47,
   "id": "d721ad1f-72e6-457d-abbe-fbdb383f2a9a",
   "metadata": {},
   "outputs": [
    {
     "data": {
      "text/plain": [
       "'Yes, you can still enroll in the course. However, you will not be able to submit some of the homeworks. You will still be eligible to take part in the course and obtain a certificate if you submit 2 out of 3 course projects and review 3 peers’ Projects by the deadline.'"
      ]
     },
     "execution_count": 47,
     "metadata": {},
     "output_type": "execute_result"
    }
   ],
   "source": [
    "rag(q, llm=\"gemini\", model=\"gemini-1.0-pro\")"
   ]
  },
  {
   "cell_type": "code",
   "execution_count": 77,
   "id": "2da1e777-f038-4e93-97f5-c7a03d99c28b",
   "metadata": {},
   "outputs": [
    {
     "name": "stdout",
     "output_type": "stream",
     "text": [
      "Model google/flan-t5-large is currently loading\n",
      "Model google/flan-t5-large is currently loading\n"
     ]
    },
    {
     "data": {
      "text/plain": [
       "'The course has already started. Can I still join it?'"
      ]
     },
     "execution_count": 77,
     "metadata": {},
     "output_type": "execute_result"
    }
   ],
   "source": [
    "rag(q, llm=\"hf\", model=\"google/flan-t5-large\")"
   ]
  },
  {
   "cell_type": "code",
   "execution_count": 78,
   "id": "75c14e14-13ab-4e68-931c-75e4e10efb4c",
   "metadata": {},
   "outputs": [
    {
     "data": {
      "text/plain": [
       "'You\\'re a course teaching assistant. Answer the QUESTION based on the CONTEXT from the FAQ database.\\nUse only the facts from the CONTEXT when answering the QUESTION.\\n\\nQUESTION: the course has already started, can I still enroll?\\n\\nCONTEXT: \\nquestion: The course has already started. Can I still join it?\\nanswer: Yes, you can. You won’t be able to submit some of the homeworks, but you can still take part in the course.\\nIn order to get a certificate, you need to submit 2 out of 3 course projects and review 3 peers’ Projects by the deadline. It means that if you join the course at the end of November and manage to work on two projects, you will still be eligible for a certificate.\\n\\nquestion: Course - Can I still join the course after the start date?\\nanswer: Yes, even if you don\\'t register, you\\'re still eligible to submit the homeworks.\\nBe aware, however, that there will be deadlines for turning in the final projects. So don\\'t leave everything for the last minute.\\n\\nquestion: Course - Can I still join the course after the start date?\\nanswer: Yes, even if you don\\'t register, you\\'re still eligible to submit the homeworks as long as the form is still open and accepting submissions.\\nBe aware, however, that there will be deadlines for turning in the final projects. So don\\'t leave everything to the last minute.\\n\\nquestion: Course - Can I still graduate when I didn’t complete homework for week x?\\nanswer: In order to obtain the certificate, completion of the final capstone project is mandatory. The completion of weekly homework assignments is optional, but they can contribute to your overall progress and ranking on the top 100 leaderboard. It also serves as a milestone to ensure you know the content enough to do capstone on your own.\\n\\nquestion: Course - What can I do before the course starts?\\nanswer: You can start by installing and setting up all the dependencies and requirements:\\nGoogle cloud account\\nGoogle Cloud SDK\\nPython 3 (installed with Anaconda)\\nTerraform\\nGit\\nLook over the prerequisites and syllabus to see if you are comfortable with these subjects. They are a good starting point to begin with. Also, you can read our community forum online.\\n\\nquestion: Course - Can I change my email address for this course?\\nanswer: You can use the \"Edit Account\" button in the portal to update your email address.\\n\\nquestion: Course - Can a team of course students submit one project as a Team in project submissions tab of online platform?\\nanswer: Yes, a team of students can submit one project as a team through the project submissions tab.\\n\\nquestion'"
      ]
     },
     "execution_count": 78,
     "metadata": {},
     "output_type": "execute_result"
    }
   ],
   "source": [
    "rag(q, llm=\"hf\", model=\"meta-llama/Meta-Llama-3-8B-Instruct\")"
   ]
  },
  {
   "cell_type": "code",
   "execution_count": 79,
   "id": "8f50ac0b-2626-46a2-94f9-27f428a01dc4",
   "metadata": {},
   "outputs": [
    {
     "data": {
      "text/plain": [
       "\"You're a course teaching assistant. Answer the QUESTION based on the CONTEXT from the FAQ database.\\nUse only the facts from the CONTEXT when answering the QUESTION.\\n\\nQUESTION: the course has already started, can I still enroll?\\n\\nCONTEXT: \\nquestion: The course has already started. Can I still join it?\\nanswer: Yes, you can. You won’t be able to submit some of the homeworks, but you can still take part in the course.\\nIn order to get a certificate, you need to submit 2 out of 3 course projects and review 3 peers’ Projects by the deadline. It means that if you join the course at the end of November and manage to work on two projects, you will still be eligible for a certificate.\\n\\nquestion: Course - Can I still join the course after the start date?\\nanswer: Yes, even if you don't register, you're still eligible to submit the homeworks.\\nBe aware, however, that there will be deadlines for turning in the final projects. So don't leave everything for the last minute.\\n\\nquestion: Course - Can I still join the course after the start date?\\nanswer: Yes, even if you don't register, you're still eligible to submit the homeworks as long as the form is still open and accepting submissions.\\nBe aware, however, that there will be deadlines for turning in the final projects. So don't leave everything to the last minute.\\n\\nquestion: Course - Can I still graduate when I didn’t complete homework for week x?\\nanswer: In order to obtain the certificate, completion of the final capstone project is mandatory. The completion of weekly homework assignments is optional, but they can contribute to your overall progress and ranking on the top 100 leaderboard. It also serves as a milestone to ensure you know the content enough to do capstone on your own.\\n\\nquestion: Course - What can I do before the course starts?\\nanswer: You can start by installing and setting up all the dependencies and requirements:\\nGoogle cloud account\\nGoogle Cloud SDK\\nPython 3 (installed with Anaconda)\\nTerraform\\nGit\\nLook over the prerequisites and syllabus to see if you are comfortable with these subjects. If not, you should start learning up before the course begins.\\n\\nquestion: Course - Is there a course start date?\\nanswer: Yes, there is an official start date. After that, the course calendar will be updated with tasks, reading materials, assignments, and other relevant information.\""
      ]
     },
     "execution_count": 79,
     "metadata": {},
     "output_type": "execute_result"
    }
   ],
   "source": [
    "rag(q, llm=\"hf\", model=\"mistralai/Mistral-7B-Instruct-v0.3\")"
   ]
  },
  {
   "cell_type": "code",
   "execution_count": 56,
   "id": "e8690849-2d3e-4e10-983d-a1176d75544b",
   "metadata": {},
   "outputs": [
    {
     "data": {
      "text/plain": [
       "{'score': 0.14685525000095367, 'start': 74, 'end': 79, 'answer': ' Yes,'}"
      ]
     },
     "execution_count": 56,
     "metadata": {},
     "output_type": "execute_result"
    }
   ],
   "source": [
    "rag(q, llm=\"hf_qa\", model=\"deepset/deberta-v3-large-squad2\")"
   ]
  },
  {
   "cell_type": "code",
   "execution_count": 57,
   "id": "9a039af5-f690-4624-8743-4dd2ebb90379",
   "metadata": {},
   "outputs": [
    {
     "data": {
      "text/plain": [
       "{'score': 0.058043383061885834,\n",
       " 'start': 75,\n",
       " 'end': 87,\n",
       " 'answer': 'Yes, you can'}"
      ]
     },
     "execution_count": 57,
     "metadata": {},
     "output_type": "execute_result"
    }
   ],
   "source": [
    "rag(q, llm=\"hf_qa\", model=\"deepset/roberta-base-squad2\")"
   ]
  },
  {
   "cell_type": "code",
   "execution_count": 58,
   "id": "48628512-22ad-4596-b1e3-9bc702a98708",
   "metadata": {},
   "outputs": [
    {
     "name": "stdout",
     "output_type": "stream",
     "text": [
      "Model deepset/tinyroberta-squad2 is currently loading\n",
      "Model deepset/tinyroberta-squad2 is currently loading\n"
     ]
    },
    {
     "data": {
      "text/plain": [
       "{'score': 7.168572483351454e-05,\n",
       " 'start': 1111,\n",
       " 'end': 1131,\n",
       " 'answer': 'Can I still graduate'}"
      ]
     },
     "execution_count": 58,
     "metadata": {},
     "output_type": "execute_result"
    }
   ],
   "source": [
    "rag(q, llm=\"hf_qa\", model=\"deepset/tinyroberta-squad2\")"
   ]
  },
  {
   "cell_type": "code",
   "execution_count": null,
   "id": "e195deca-7dda-48e4-89f2-ac1293eb926e",
   "metadata": {},
   "outputs": [],
   "source": [
    "rag(q, llm=\"hf_qa\", model=\"deepset/tinyroberta-squad2\")"
   ]
  }
 ],
 "metadata": {
  "kernelspec": {
   "display_name": "Python 3 (ipykernel)",
   "language": "python",
   "name": "python3"
  },
  "language_info": {
   "codemirror_mode": {
    "name": "ipython",
    "version": 3
   },
   "file_extension": ".py",
   "mimetype": "text/x-python",
   "name": "python",
   "nbconvert_exporter": "python",
   "pygments_lexer": "ipython3",
   "version": "3.10.12"
  }
 },
 "nbformat": 4,
 "nbformat_minor": 5
}
