{
 "cells": [
  {
   "cell_type": "code",
   "execution_count": 1,
   "metadata": {},
   "outputs": [
    {
     "name": "stderr",
     "output_type": "stream",
     "text": [
      "/mnt/c/Users/otaci/Desktop/repos/llm-zoomcamp-otacilio/.venv/lib/python3.10/site-packages/tqdm/auto.py:21: TqdmWarning: IProgress not found. Please update jupyter and ipywidgets. See https://ipywidgets.readthedocs.io/en/stable/user_install.html\n",
      "  from .autonotebook import tqdm as notebook_tqdm\n"
     ]
    }
   ],
   "source": [
    "from sentence_transformers import SentenceTransformer\n",
    "import lancedb\n",
    "from lancedb.pydantic import LanceModel, Vector\n",
    "from lancedb.embeddings import get_registry\n",
    "import requests"
   ]
  },
  {
   "cell_type": "code",
   "execution_count": 2,
   "metadata": {},
   "outputs": [],
   "source": [
    "uri = \"llm-zoomcap-lancedb\"\n",
    "db = lancedb.connect(uri)"
   ]
  },
  {
   "cell_type": "code",
   "execution_count": 3,
   "metadata": {},
   "outputs": [],
   "source": [
    "model = get_registry().get(\"sentence-transformers\").create(name=\"multi-qa-distilbert-cos-v1\", device=\"cpu\")"
   ]
  },
  {
   "cell_type": "code",
   "execution_count": 4,
   "metadata": {},
   "outputs": [
    {
     "data": {
      "text/plain": [
       "{'section': 'General course-related questions',\n",
       " 'question': 'How do I sign up?',\n",
       " 'course': 'machine-learning-zoomcamp',\n",
       " 'id': '0227b872',\n",
       " 'answer': 'Machine Learning Zoomcamp FAQ\\nThe purpose of this document is to capture frequently asked technical questions.\\nWe did this for our data engineering course and it worked quite well. Check this document for inspiration on how to structure your questions and answers:\\nData Engineering Zoomcamp FAQ\\nIn the course GitHub repository there’s a link. Here it is: https://airtable.com/shryxwLd0COOEaqXo\\nwork'}"
      ]
     },
     "execution_count": 4,
     "metadata": {},
     "output_type": "execute_result"
    }
   ],
   "source": [
    "base_url = 'https://github.com/DataTalksClub/llm-zoomcamp/blob/main'\n",
    "relative_url = '03-vector-search/eval/documents-with-ids.json'\n",
    "docs_url = f'{base_url}/{relative_url}?raw=1'\n",
    "docs_response = requests.get(docs_url)\n",
    "documents = docs_response.json()\n",
    "documents = [doc for doc in documents if doc['course']==\"machine-learning-zoomcamp\"]\n",
    "# Iterate through each dictionary in the list\n",
    "for doc in documents:\n",
    "    if 'text' in doc:\n",
    "        doc['answer'] = doc.pop('text')\n",
    "\n",
    "documents[0]"
   ]
  },
  {
   "cell_type": "markdown",
   "metadata": {},
   "source": [
    "#### Using LanceDB auto embeding"
   ]
  },
  {
   "cell_type": "code",
   "execution_count": 5,
   "metadata": {},
   "outputs": [],
   "source": [
    "class CourseQuestions(LanceModel):\n",
    "    section: str\n",
    "    question: str = model.SourceField()\n",
    "    course: str\n",
    "    id: str\n",
    "    answer: str = model.SourceField()\n",
    "    vector: Vector(model.ndims()) = model.VectorField()"
   ]
  },
  {
   "cell_type": "code",
   "execution_count": 6,
   "metadata": {},
   "outputs": [],
   "source": [
    "# course-questions\n",
    "table = db.create_table(\"course_questions_auto\", schema=CourseQuestions, mode=\"overwrite\")\n",
    "table.add(documents)"
   ]
  },
  {
   "cell_type": "code",
   "execution_count": 7,
   "metadata": {},
   "outputs": [
    {
     "data": {
      "text/html": [
       "<div>\n",
       "<style scoped>\n",
       "    .dataframe tbody tr th:only-of-type {\n",
       "        vertical-align: middle;\n",
       "    }\n",
       "\n",
       "    .dataframe tbody tr th {\n",
       "        vertical-align: top;\n",
       "    }\n",
       "\n",
       "    .dataframe thead th {\n",
       "        text-align: right;\n",
       "    }\n",
       "</style>\n",
       "<table border=\"1\" class=\"dataframe\">\n",
       "  <thead>\n",
       "    <tr style=\"text-align: right;\">\n",
       "      <th></th>\n",
       "      <th>id</th>\n",
       "      <th>question</th>\n",
       "      <th>answer</th>\n",
       "      <th>_distance</th>\n",
       "    </tr>\n",
       "  </thead>\n",
       "  <tbody>\n",
       "    <tr>\n",
       "      <th>0</th>\n",
       "      <td>636f55d5</td>\n",
       "      <td>When does the next iteration start?</td>\n",
       "      <td>The course is available in the self-paced mode...</td>\n",
       "      <td>0.525028</td>\n",
       "    </tr>\n",
       "    <tr>\n",
       "      <th>1</th>\n",
       "      <td>6ba259b1</td>\n",
       "      <td>I filled the form, but haven't received a conf...</td>\n",
       "      <td>The process is automated now, so you should re...</td>\n",
       "      <td>0.527779</td>\n",
       "    </tr>\n",
       "    <tr>\n",
       "      <th>2</th>\n",
       "      <td>ee58a693</td>\n",
       "      <td>The course has already started. Can I still jo...</td>\n",
       "      <td>Yes, you can. You won’t be able to submit some...</td>\n",
       "      <td>0.529869</td>\n",
       "    </tr>\n",
       "    <tr>\n",
       "      <th>3</th>\n",
       "      <td>e7ba6b8a</td>\n",
       "      <td>The course videos are from the previous iterat...</td>\n",
       "      <td>We won’t re-record the course videos. The focu...</td>\n",
       "      <td>0.539758</td>\n",
       "    </tr>\n",
       "    <tr>\n",
       "      <th>4</th>\n",
       "      <td>39fda9f0</td>\n",
       "      <td>Is it going to be live? When?</td>\n",
       "      <td>The course videos are pre-recorded, you can st...</td>\n",
       "      <td>0.615941</td>\n",
       "    </tr>\n",
       "  </tbody>\n",
       "</table>\n",
       "</div>"
      ],
      "text/plain": [
       "         id                                           question  \\\n",
       "0  636f55d5                When does the next iteration start?   \n",
       "1  6ba259b1  I filled the form, but haven't received a conf...   \n",
       "2  ee58a693  The course has already started. Can I still jo...   \n",
       "3  e7ba6b8a  The course videos are from the previous iterat...   \n",
       "4  39fda9f0                      Is it going to be live? When?   \n",
       "\n",
       "                                              answer  _distance  \n",
       "0  The course is available in the self-paced mode...   0.525028  \n",
       "1  The process is automated now, so you should re...   0.527779  \n",
       "2  Yes, you can. You won’t be able to submit some...   0.529869  \n",
       "3  We won’t re-record the course videos. The focu...   0.539758  \n",
       "4  The course videos are pre-recorded, you can st...   0.615941  "
      ]
     },
     "execution_count": 7,
     "metadata": {},
     "output_type": "execute_result"
    }
   ],
   "source": [
    "user_question = \"I just discovered the course. Can I still join it?\"\n",
    "results = (\n",
    "    table\n",
    "    .search(user_question, query_type=\"vector\")\n",
    "    .metric(\"cosine\")\n",
    "    .nprobes(10000)\n",
    "    .select([\"id\", \"question\", \"answer\"])\n",
    "    .limit(5)\n",
    "    .to_pandas()\n",
    ")\n",
    "results"
   ]
  }
 ],
 "metadata": {
  "kernelspec": {
   "display_name": ".venv",
   "language": "python",
   "name": "python3"
  },
  "language_info": {
   "codemirror_mode": {
    "name": "ipython",
    "version": 3
   },
   "file_extension": ".py",
   "mimetype": "text/x-python",
   "name": "python",
   "nbconvert_exporter": "python",
   "pygments_lexer": "ipython3",
   "version": "3.10.12"
  }
 },
 "nbformat": 4,
 "nbformat_minor": 2
}
