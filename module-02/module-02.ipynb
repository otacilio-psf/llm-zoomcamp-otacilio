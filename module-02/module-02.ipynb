{
 "cells": [
  {
   "cell_type": "code",
   "execution_count": 25,
   "id": "b38d3462-2429-42ad-81be-70fdb713fa41",
   "metadata": {},
   "outputs": [],
   "source": [
    "import sys"
   ]
  },
  {
   "cell_type": "code",
   "execution_count": 26,
   "id": "b83b1812-5192-4af6-ba76-b66548c25b02",
   "metadata": {},
   "outputs": [],
   "source": [
    "sys.path.append(\"..\")"
   ]
  },
  {
   "cell_type": "code",
   "execution_count": 27,
   "id": "de63e4ef-d12f-4d17-8ef6-81143add6892",
   "metadata": {},
   "outputs": [],
   "source": [
    "from elastic_function import elastic_search\n",
    "from openai import OpenAI"
   ]
  },
  {
   "cell_type": "code",
   "execution_count": 28,
   "id": "453488b9-a967-4ce4-8cfd-100a6b019921",
   "metadata": {},
   "outputs": [],
   "source": [
    "client = OpenAI(\n",
    "    base_url='http://localhost:11434/v1/',\n",
    "    api_key='ollama',\n",
    ")"
   ]
  },
  {
   "cell_type": "code",
   "execution_count": 29,
   "id": "87cb17da-c95b-45a9-abce-335592e59c6b",
   "metadata": {},
   "outputs": [],
   "source": [
    "query = 'the course has already started, can I still enroll?'"
   ]
  },
  {
   "cell_type": "code",
   "execution_count": 30,
   "id": "af76a232-69a1-4548-8d8a-001d6730e3b5",
   "metadata": {},
   "outputs": [],
   "source": [
    "def build_prompt(query, search_results):\n",
    "    prompt_template = \"\"\"\n",
    "You're a course teaching assistant. Answer the QUESTION based on the CONTEXT from the FAQ database.\n",
    "Use only the facts from the CONTEXT when answering the QUESTION.\n",
    "\n",
    "QUESTION: {question}\n",
    "\n",
    "CONTEXT: \n",
    "{context}\n",
    "\"\"\".strip()\n",
    "\n",
    "    context = \"\"\n",
    "    \n",
    "    for doc in search_results:\n",
    "        context = context + f\"section: {doc['section']}\\nquestion: {doc['question']}\\nanswer: {doc['text']}\\n\\n\"\n",
    "    \n",
    "    prompt = prompt_template.format(question=query, context=context).strip()\n",
    "    return prompt\n",
    "\n",
    "def llm(prompt, model):\n",
    "    response = client.chat.completions.create(\n",
    "        model=model,\n",
    "        messages=[{\"role\": \"user\", \"content\": prompt}]\n",
    "    )\n",
    "    \n",
    "    return response.choices[0].message.content"
   ]
  },
  {
   "cell_type": "code",
   "execution_count": 31,
   "id": "f77df116-f464-459e-9783-b6bbdfb8a444",
   "metadata": {},
   "outputs": [],
   "source": [
    "def rag(query, model=\"phi3\"):\n",
    "    search_results = elastic_search(query)\n",
    "    prompt = build_prompt(query, search_results)\n",
    "    answer = llm(prompt, model)\n",
    "    return answer"
   ]
  },
  {
   "cell_type": "code",
   "execution_count": 32,
   "id": "59fb727e-c75e-49c4-898e-c328e69fb94d",
   "metadata": {},
   "outputs": [
    {
     "data": {
      "text/plain": [
       "'No, the passage does not indicate that it is possible to enroll in the course after it has started.'"
      ]
     },
     "execution_count": 32,
     "metadata": {},
     "output_type": "execute_result"
    }
   ],
   "source": [
    "rag(query,'gemma:2b')"
   ]
  },
  {
   "cell_type": "code",
   "execution_count": 14,
   "id": "e83eee1d-8890-42c9-a496-156dece21433",
   "metadata": {},
   "outputs": [
    {
     "data": {
      "text/plain": [
       "'No, the course cannot be enrolled after the start date. According to the context, you are eligible to submit homeworks and participate in the course, but you will not be able to submit some homeworks or complete the final projects.'"
      ]
     },
     "execution_count": 14,
     "metadata": {},
     "output_type": "execute_result"
    }
   ],
   "source": [
    "rag(query,'gemma:2b')"
   ]
  },
  {
   "cell_type": "code",
   "execution_count": 16,
   "id": "acae3503-4820-44a5-8e2d-106b211b3d55",
   "metadata": {},
   "outputs": [
    {
     "data": {
      "text/plain": [
       "' Yes, according to our FAQ database: \"Yes, but it\\'s advised not to leave everything until last minute as there are deadlines for turning in final projects.\" However, while working on two out of three course project options by the end of November will still give you eligibility for a certificate.\\n'"
      ]
     },
     "execution_count": 16,
     "metadata": {},
     "output_type": "execute_result"
    }
   ],
   "source": [
    "rag(query,'phi3')"
   ]
  }
 ],
 "metadata": {
  "kernelspec": {
   "display_name": "Python 3 (ipykernel)",
   "language": "python",
   "name": "python3"
  },
  "language_info": {
   "codemirror_mode": {
    "name": "ipython",
    "version": 3
   },
   "file_extension": ".py",
   "mimetype": "text/x-python",
   "name": "python",
   "nbconvert_exporter": "python",
   "pygments_lexer": "ipython3",
   "version": "3.10.12"
  }
 },
 "nbformat": 4,
 "nbformat_minor": 5
}
