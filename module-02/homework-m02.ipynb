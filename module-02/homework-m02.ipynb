{
 "cells": [
  {
   "cell_type": "markdown",
   "id": "71df9cfb-0e4b-4a49-addc-2b633187ca93",
   "metadata": {},
   "source": [
    "### Q3"
   ]
  },
  {
   "cell_type": "code",
   "execution_count": 1,
   "id": "143c51d0-c6d1-4caf-bd15-cedf5bbfe946",
   "metadata": {},
   "outputs": [],
   "source": [
    "from openai import OpenAI"
   ]
  },
  {
   "cell_type": "code",
   "execution_count": 2,
   "id": "3021c6d4-98b5-474d-9467-6d47b753955b",
   "metadata": {},
   "outputs": [],
   "source": [
    "client = OpenAI(\n",
    "    base_url='http://localhost:11434/v1/',\n",
    "    api_key='ollama',\n",
    ")"
   ]
  },
  {
   "cell_type": "code",
   "execution_count": 17,
   "id": "8beabcdc-0270-41b9-8e23-1a5d5f00e424",
   "metadata": {},
   "outputs": [],
   "source": [
    "def llm(prompt, model):\n",
    "    response = client.chat.completions.create(\n",
    "        model=model,\n",
    "        messages=[{\"role\": \"user\", \"content\": prompt}]\n",
    "    )\n",
    "    \n",
    "    return response.choices[0].message.content"
   ]
  },
  {
   "cell_type": "code",
   "execution_count": 18,
   "id": "12c550e8-ca3b-4b7e-b49f-8407c9a2b6ff",
   "metadata": {},
   "outputs": [],
   "source": [
    "prompt = \"10*10\""
   ]
  },
  {
   "cell_type": "code",
   "execution_count": 19,
   "id": "5b3d34c8-a6eb-4cc9-b9f5-a37354c40e4b",
   "metadata": {},
   "outputs": [
    {
     "data": {
      "text/plain": [
       "\"Sure, here's the answer:\\n\\n10 * 10 = 100.\\n\\n\""
      ]
     },
     "execution_count": 19,
     "metadata": {},
     "output_type": "execute_result"
    }
   ],
   "source": [
    "llm(prompt, 'gemma:2b')"
   ]
  },
  {
   "cell_type": "markdown",
   "id": "fc45456e-3383-4718-946e-bd42cd675a0d",
   "metadata": {},
   "source": [
    "### Q4\n",
    "\n",
    "```\n",
    "mkdir ollama_files\n",
    "\n",
    "docker run -d \\\n",
    "    -v ./ollama_files:/root/.ollama \\\n",
    "    -p 11434:11434 \\\n",
    "    --name ollama \\\n",
    "    ollama/ollama\n",
    "```\n",
    "\n",
    "```\n",
    "docker exec -it ollama ollama pull gemma:2b \n",
    "```"
   ]
  },
  {
   "cell_type": "code",
   "execution_count": 9,
   "id": "e3c6ed8d-d882-4621-80ca-287b6fd6d440",
   "metadata": {},
   "outputs": [
    {
     "name": "stdout",
     "output_type": "stream",
     "text": [
      "The size of the folder '../ollama_files' is: 1.56 GB\n"
     ]
    }
   ],
   "source": [
    "## AI Generated\n",
    "import os\n",
    "\n",
    "def get_folder_size(path):\n",
    "    total_size = 0\n",
    "    for dirpath, dirnames, filenames in os.walk(path):\n",
    "        for f in filenames:\n",
    "            fp = os.path.join(dirpath, f)\n",
    "            # Skip if it is symbolic link\n",
    "            if not os.path.islink(fp):\n",
    "                total_size += os.path.getsize(fp)\n",
    "    return total_size\n",
    "\n",
    "def format_size(size):\n",
    "    # Convert the size to a human-readable format (similar to du -h)\n",
    "    for unit in ['B', 'KB', 'MB', 'GB', 'TB']:\n",
    "        if size < 1024:\n",
    "            return f\"{size:.2f} {unit}\"\n",
    "        size /= 1024\n",
    "\n",
    "# Example usage\n",
    "folder_path = \"../ollama_files\"\n",
    "size = get_folder_size(folder_path)\n",
    "print(f\"The size of the folder '{folder_path}' is: {format_size(size)}\")"
   ]
  },
  {
   "cell_type": "markdown",
   "id": "d8fa7217-c376-4e00-9168-158a767c96c7",
   "metadata": {},
   "source": [
    "### Q6"
   ]
  },
  {
   "cell_type": "code",
   "execution_count": 10,
   "id": "53a22511-6157-443b-9369-99cc51896de2",
   "metadata": {},
   "outputs": [],
   "source": [
    "prompt = \"What's the formula for energy?\""
   ]
  },
  {
   "cell_type": "code",
   "execution_count": 14,
   "id": "3d7741d4-15d4-4dee-b47c-c976a6a9e5db",
   "metadata": {},
   "outputs": [],
   "source": [
    "def llm_complete_respose(prompt, model):\n",
    "    response = client.chat.completions.create(\n",
    "        model=model,\n",
    "        messages=[{\"role\": \"user\", \"content\": prompt}],\n",
    "        temperature=0.0\n",
    "    )\n",
    "    \n",
    "    return response"
   ]
  },
  {
   "cell_type": "code",
   "execution_count": 15,
   "id": "293157d5-c5f2-4538-aa31-668c4fdfea42",
   "metadata": {},
   "outputs": [],
   "source": [
    "response = llm_complete_respose(prompt, 'gemma:2b')"
   ]
  },
  {
   "cell_type": "code",
   "execution_count": 16,
   "id": "d114f6d3-d300-4a59-b36c-53e990988fcf",
   "metadata": {},
   "outputs": [
    {
     "data": {
      "text/plain": [
       "304"
      ]
     },
     "execution_count": 16,
     "metadata": {},
     "output_type": "execute_result"
    }
   ],
   "source": [
    "response.usage.completion_tokens"
   ]
  },
  {
   "cell_type": "code",
   "execution_count": null,
   "id": "921d0608-5fca-4d33-bfe0-47cde7c6b687",
   "metadata": {},
   "outputs": [],
   "source": []
  }
 ],
 "metadata": {
  "kernelspec": {
   "display_name": "Python 3 (ipykernel)",
   "language": "python",
   "name": "python3"
  },
  "language_info": {
   "codemirror_mode": {
    "name": "ipython",
    "version": 3
   },
   "file_extension": ".py",
   "mimetype": "text/x-python",
   "name": "python",
   "nbconvert_exporter": "python",
   "pygments_lexer": "ipython3",
   "version": "3.10.12"
  }
 },
 "nbformat": 4,
 "nbformat_minor": 5
}
